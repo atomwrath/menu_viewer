{
 "cells": [
  {
   "cell_type": "code",
   "execution_count": 1,
   "id": "f0743c57-5b47-4234-a7ad-598124de8a04",
   "metadata": {},
   "outputs": [],
   "source": [
    "import menu_view"
   ]
  },
  {
   "cell_type": "code",
   "execution_count": 2,
   "id": "932644d3-563a-4756-8173-5d48750e8ded",
   "metadata": {},
   "outputs": [
    {
     "data": {
      "application/vnd.jupyter.widget-view+json": {
       "model_id": "df4203c9633649e7926daf05df323a56",
       "version_major": 2,
       "version_minor": 0
      },
      "text/plain": [
       "VBox(children=(VBox(children=(HBox(children=(Dropdown(description='Files:', options=('amc_menu_database.xlsx',…"
      ]
     },
     "metadata": {},
     "output_type": "display_data"
    }
   ],
   "source": [
    "menu_view.main()"
   ]
  },
  {
   "cell_type": "code",
   "execution_count": null,
   "id": "a77cee4a-be39-437e-b64e-d5c58bda366f",
   "metadata": {},
   "outputs": [],
   "source": []
  }
 ],
 "metadata": {
  "kernelspec": {
   "display_name": "Python 3 (ipykernel)",
   "language": "python",
   "name": "python3"
  },
  "language_info": {
   "codemirror_mode": {
    "name": "ipython",
    "version": 3
   },
   "file_extension": ".py",
   "mimetype": "text/x-python",
   "name": "python",
   "nbconvert_exporter": "python",
   "pygments_lexer": "ipython3",
   "version": "3.12.3"
  }
 },
 "nbformat": 4,
 "nbformat_minor": 5
}
